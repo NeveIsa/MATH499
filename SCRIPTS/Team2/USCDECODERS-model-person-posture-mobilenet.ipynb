import config

print(config.PREPROCESS)
